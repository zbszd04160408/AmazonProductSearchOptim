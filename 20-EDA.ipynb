{
  "nbformat": 4,
  "nbformat_minor": 0,
  "metadata": {
    "colab": {
      "name": "20-EDA.py",
      "provenance": [],
      "collapsed_sections": []
    },
    "kernelspec": {
      "name": "python3",
      "display_name": "Python 3"
    },
    "language_info": {
      "name": "python"
    },
    "widgets": {
      "application/vnd.jupyter.widget-state+json": {
        "4fb00a970b394edf835079bdf1ed0844": {
          "model_module": "@jupyter-widgets/controls",
          "model_name": "HBoxModel",
          "model_module_version": "1.5.0",
          "state": {
            "_dom_classes": [],
            "_model_module": "@jupyter-widgets/controls",
            "_model_module_version": "1.5.0",
            "_model_name": "HBoxModel",
            "_view_count": null,
            "_view_module": "@jupyter-widgets/controls",
            "_view_module_version": "1.5.0",
            "_view_name": "HBoxView",
            "box_style": "",
            "children": [
              "IPY_MODEL_d563ec13f3844b7fb81ff3a416b83777",
              "IPY_MODEL_3fe64e4382424ba7835260118302fc90",
              "IPY_MODEL_53f3882f8c554397b76cbd048f8a0b65"
            ],
            "layout": "IPY_MODEL_0b8523932325498fad2a87ef722b956d"
          }
        },
        "d563ec13f3844b7fb81ff3a416b83777": {
          "model_module": "@jupyter-widgets/controls",
          "model_name": "HTMLModel",
          "model_module_version": "1.5.0",
          "state": {
            "_dom_classes": [],
            "_model_module": "@jupyter-widgets/controls",
            "_model_module_version": "1.5.0",
            "_model_name": "HTMLModel",
            "_view_count": null,
            "_view_module": "@jupyter-widgets/controls",
            "_view_module_version": "1.5.0",
            "_view_name": "HTMLView",
            "description": "",
            "description_tooltip": null,
            "layout": "IPY_MODEL_593d6560b1964ee8b329cdcd2b3c571d",
            "placeholder": "​",
            "style": "IPY_MODEL_3e0ea042822e4ac2b910fe0c16231206",
            "value": "100%"
          }
        },
        "3fe64e4382424ba7835260118302fc90": {
          "model_module": "@jupyter-widgets/controls",
          "model_name": "FloatProgressModel",
          "model_module_version": "1.5.0",
          "state": {
            "_dom_classes": [],
            "_model_module": "@jupyter-widgets/controls",
            "_model_module_version": "1.5.0",
            "_model_name": "FloatProgressModel",
            "_view_count": null,
            "_view_module": "@jupyter-widgets/controls",
            "_view_module_version": "1.5.0",
            "_view_name": "ProgressView",
            "bar_style": "success",
            "description": "",
            "description_tooltip": null,
            "layout": "IPY_MODEL_9e0cc125249c4fa1959373b83a7011c3",
            "max": 200000,
            "min": 0,
            "orientation": "horizontal",
            "style": "IPY_MODEL_0f4317eda4bf4e838c513015f952277e",
            "value": 200000
          }
        },
        "53f3882f8c554397b76cbd048f8a0b65": {
          "model_module": "@jupyter-widgets/controls",
          "model_name": "HTMLModel",
          "model_module_version": "1.5.0",
          "state": {
            "_dom_classes": [],
            "_model_module": "@jupyter-widgets/controls",
            "_model_module_version": "1.5.0",
            "_model_name": "HTMLModel",
            "_view_count": null,
            "_view_module": "@jupyter-widgets/controls",
            "_view_module_version": "1.5.0",
            "_view_name": "HTMLView",
            "description": "",
            "description_tooltip": null,
            "layout": "IPY_MODEL_40dd8fc388fa4a63a77a0c5c60582c40",
            "placeholder": "​",
            "style": "IPY_MODEL_c40ad2219dc14d7fb4c4a2f7ec109d7e",
            "value": " 200000/200000 [03:04&lt;00:00, 1147.10it/s]"
          }
        },
        "0b8523932325498fad2a87ef722b956d": {
          "model_module": "@jupyter-widgets/base",
          "model_name": "LayoutModel",
          "model_module_version": "1.2.0",
          "state": {
            "_model_module": "@jupyter-widgets/base",
            "_model_module_version": "1.2.0",
            "_model_name": "LayoutModel",
            "_view_count": null,
            "_view_module": "@jupyter-widgets/base",
            "_view_module_version": "1.2.0",
            "_view_name": "LayoutView",
            "align_content": null,
            "align_items": null,
            "align_self": null,
            "border": null,
            "bottom": null,
            "display": null,
            "flex": null,
            "flex_flow": null,
            "grid_area": null,
            "grid_auto_columns": null,
            "grid_auto_flow": null,
            "grid_auto_rows": null,
            "grid_column": null,
            "grid_gap": null,
            "grid_row": null,
            "grid_template_areas": null,
            "grid_template_columns": null,
            "grid_template_rows": null,
            "height": null,
            "justify_content": null,
            "justify_items": null,
            "left": null,
            "margin": null,
            "max_height": null,
            "max_width": null,
            "min_height": null,
            "min_width": null,
            "object_fit": null,
            "object_position": null,
            "order": null,
            "overflow": null,
            "overflow_x": null,
            "overflow_y": null,
            "padding": null,
            "right": null,
            "top": null,
            "visibility": null,
            "width": null
          }
        },
        "593d6560b1964ee8b329cdcd2b3c571d": {
          "model_module": "@jupyter-widgets/base",
          "model_name": "LayoutModel",
          "model_module_version": "1.2.0",
          "state": {
            "_model_module": "@jupyter-widgets/base",
            "_model_module_version": "1.2.0",
            "_model_name": "LayoutModel",
            "_view_count": null,
            "_view_module": "@jupyter-widgets/base",
            "_view_module_version": "1.2.0",
            "_view_name": "LayoutView",
            "align_content": null,
            "align_items": null,
            "align_self": null,
            "border": null,
            "bottom": null,
            "display": null,
            "flex": null,
            "flex_flow": null,
            "grid_area": null,
            "grid_auto_columns": null,
            "grid_auto_flow": null,
            "grid_auto_rows": null,
            "grid_column": null,
            "grid_gap": null,
            "grid_row": null,
            "grid_template_areas": null,
            "grid_template_columns": null,
            "grid_template_rows": null,
            "height": null,
            "justify_content": null,
            "justify_items": null,
            "left": null,
            "margin": null,
            "max_height": null,
            "max_width": null,
            "min_height": null,
            "min_width": null,
            "object_fit": null,
            "object_position": null,
            "order": null,
            "overflow": null,
            "overflow_x": null,
            "overflow_y": null,
            "padding": null,
            "right": null,
            "top": null,
            "visibility": null,
            "width": null
          }
        },
        "3e0ea042822e4ac2b910fe0c16231206": {
          "model_module": "@jupyter-widgets/controls",
          "model_name": "DescriptionStyleModel",
          "model_module_version": "1.5.0",
          "state": {
            "_model_module": "@jupyter-widgets/controls",
            "_model_module_version": "1.5.0",
            "_model_name": "DescriptionStyleModel",
            "_view_count": null,
            "_view_module": "@jupyter-widgets/base",
            "_view_module_version": "1.2.0",
            "_view_name": "StyleView",
            "description_width": ""
          }
        },
        "9e0cc125249c4fa1959373b83a7011c3": {
          "model_module": "@jupyter-widgets/base",
          "model_name": "LayoutModel",
          "model_module_version": "1.2.0",
          "state": {
            "_model_module": "@jupyter-widgets/base",
            "_model_module_version": "1.2.0",
            "_model_name": "LayoutModel",
            "_view_count": null,
            "_view_module": "@jupyter-widgets/base",
            "_view_module_version": "1.2.0",
            "_view_name": "LayoutView",
            "align_content": null,
            "align_items": null,
            "align_self": null,
            "border": null,
            "bottom": null,
            "display": null,
            "flex": null,
            "flex_flow": null,
            "grid_area": null,
            "grid_auto_columns": null,
            "grid_auto_flow": null,
            "grid_auto_rows": null,
            "grid_column": null,
            "grid_gap": null,
            "grid_row": null,
            "grid_template_areas": null,
            "grid_template_columns": null,
            "grid_template_rows": null,
            "height": null,
            "justify_content": null,
            "justify_items": null,
            "left": null,
            "margin": null,
            "max_height": null,
            "max_width": null,
            "min_height": null,
            "min_width": null,
            "object_fit": null,
            "object_position": null,
            "order": null,
            "overflow": null,
            "overflow_x": null,
            "overflow_y": null,
            "padding": null,
            "right": null,
            "top": null,
            "visibility": null,
            "width": null
          }
        },
        "0f4317eda4bf4e838c513015f952277e": {
          "model_module": "@jupyter-widgets/controls",
          "model_name": "ProgressStyleModel",
          "model_module_version": "1.5.0",
          "state": {
            "_model_module": "@jupyter-widgets/controls",
            "_model_module_version": "1.5.0",
            "_model_name": "ProgressStyleModel",
            "_view_count": null,
            "_view_module": "@jupyter-widgets/base",
            "_view_module_version": "1.2.0",
            "_view_name": "StyleView",
            "bar_color": null,
            "description_width": ""
          }
        },
        "40dd8fc388fa4a63a77a0c5c60582c40": {
          "model_module": "@jupyter-widgets/base",
          "model_name": "LayoutModel",
          "model_module_version": "1.2.0",
          "state": {
            "_model_module": "@jupyter-widgets/base",
            "_model_module_version": "1.2.0",
            "_model_name": "LayoutModel",
            "_view_count": null,
            "_view_module": "@jupyter-widgets/base",
            "_view_module_version": "1.2.0",
            "_view_name": "LayoutView",
            "align_content": null,
            "align_items": null,
            "align_self": null,
            "border": null,
            "bottom": null,
            "display": null,
            "flex": null,
            "flex_flow": null,
            "grid_area": null,
            "grid_auto_columns": null,
            "grid_auto_flow": null,
            "grid_auto_rows": null,
            "grid_column": null,
            "grid_gap": null,
            "grid_row": null,
            "grid_template_areas": null,
            "grid_template_columns": null,
            "grid_template_rows": null,
            "height": null,
            "justify_content": null,
            "justify_items": null,
            "left": null,
            "margin": null,
            "max_height": null,
            "max_width": null,
            "min_height": null,
            "min_width": null,
            "object_fit": null,
            "object_position": null,
            "order": null,
            "overflow": null,
            "overflow_x": null,
            "overflow_y": null,
            "padding": null,
            "right": null,
            "top": null,
            "visibility": null,
            "width": null
          }
        },
        "c40ad2219dc14d7fb4c4a2f7ec109d7e": {
          "model_module": "@jupyter-widgets/controls",
          "model_name": "DescriptionStyleModel",
          "model_module_version": "1.5.0",
          "state": {
            "_model_module": "@jupyter-widgets/controls",
            "_model_module_version": "1.5.0",
            "_model_name": "DescriptionStyleModel",
            "_view_count": null,
            "_view_module": "@jupyter-widgets/base",
            "_view_module_version": "1.2.0",
            "_view_name": "StyleView",
            "description_width": ""
          }
        }
      }
    }
  },
  "cells": [
    {
      "cell_type": "code",
      "source": [
        "from google.colab import drive\n",
        "drive.mount('/content/drive')"
      ],
      "metadata": {
        "colab": {
          "base_uri": "https://localhost:8080/"
        },
        "id": "ZUqgaUPZUPv2",
        "outputId": "f9b04c35-1907-4692-d207-453610b04cb3"
      },
      "execution_count": null,
      "outputs": [
        {
          "output_type": "stream",
          "name": "stdout",
          "text": [
            "Mounted at /content/drive\n"
          ]
        }
      ]
    },
    {
      "cell_type": "code",
      "source": [
        "import os\n",
        "import pandas as pd\n",
        "train = pd.read_csv(\"/content/drive/MyDrive/Colab Notebooks/train-v0.2.csv\")"
      ],
      "metadata": {
        "id": "khQpCv4jU5_T"
      },
      "execution_count": null,
      "outputs": []
    },
    {
      "cell_type": "code",
      "source": [
        "mega_table = pd.read_csv(\"/content/drive/MyDrive/Colab Notebooks/product_catalogue-v0.2.csv\")\n",
        "train= pd.merge(train, mega_table, how = 'left', left_on = ['product_id', 'query_locale'], right_on = ['product_id', 'product_locale'])"
      ],
      "metadata": {
        "id": "6r-hyN9q8hj9"
      },
      "execution_count": null,
      "outputs": []
    },
    {
      "cell_type": "markdown",
      "source": [
        "EDA"
      ],
      "metadata": {
        "id": "lzYv95nGnJNf"
      }
    },
    {
      "cell_type": "code",
      "source": [
        "#LENGTH OF STRING FILTER\n",
        "train=train.fillna('')\n",
        "lens = lambda x: len(str(x))\n",
        "length_train_df = pd.DataFrame()\n",
        "for name in train.columns:\n",
        "    if ('product' in name or 'query' in name) and 'locale' not in name:\n",
        "        length_train_df[f'{name}_length'] = train[name].apply(lens)\n",
        "round(length_train_df.describe(),2)"
      ],
      "metadata": {
        "colab": {
          "base_uri": "https://localhost:8080/",
          "height": 364
        },
        "id": "EEpAlhRPK9xT",
        "outputId": "3cbdf9cb-d45f-46c8-9ce5-047415264907"
      },
      "execution_count": null,
      "outputs": [
        {
          "output_type": "execute_result",
          "data": {
            "text/plain": [
              "       query_length  product_id_length  product_title_length  \\\n",
              "count    1834744.00          1834744.0            1834744.00   \n",
              "mean          19.52               10.0                103.33   \n",
              "std           10.05                0.0                 53.79   \n",
              "min            1.00               10.0                  0.00   \n",
              "25%           12.00               10.0                 60.00   \n",
              "50%           18.00               10.0                 94.00   \n",
              "75%           25.00               10.0                148.00   \n",
              "max          165.00               10.0                400.00   \n",
              "\n",
              "       product_description_length  product_bullet_point_length  \\\n",
              "count                  1834744.00                   1834744.00   \n",
              "mean                       394.52                       559.73   \n",
              "std                        585.50                       517.68   \n",
              "min                          0.00                         0.00   \n",
              "25%                          0.00                       121.00   \n",
              "50%                          0.00                       429.00   \n",
              "75%                        667.00                       888.00   \n",
              "max                       8640.00                      2503.00   \n",
              "\n",
              "       product_brand_length  product_color_name_length  \n",
              "count            1834744.00                 1834744.00  \n",
              "mean                   8.84                       5.78  \n",
              "std                    5.85                       7.22  \n",
              "min                    0.00                       0.00  \n",
              "25%                    6.00                       0.00  \n",
              "50%                    7.00                       5.00  \n",
              "75%                   11.00                       8.00  \n",
              "max                  100.00                     100.00  "
            ],
            "text/html": [
              "\n",
              "  <div id=\"df-9ec91db8-9b58-4ff9-838c-1e04e061cfe9\">\n",
              "    <div class=\"colab-df-container\">\n",
              "      <div>\n",
              "<style scoped>\n",
              "    .dataframe tbody tr th:only-of-type {\n",
              "        vertical-align: middle;\n",
              "    }\n",
              "\n",
              "    .dataframe tbody tr th {\n",
              "        vertical-align: top;\n",
              "    }\n",
              "\n",
              "    .dataframe thead th {\n",
              "        text-align: right;\n",
              "    }\n",
              "</style>\n",
              "<table border=\"1\" class=\"dataframe\">\n",
              "  <thead>\n",
              "    <tr style=\"text-align: right;\">\n",
              "      <th></th>\n",
              "      <th>query_length</th>\n",
              "      <th>product_id_length</th>\n",
              "      <th>product_title_length</th>\n",
              "      <th>product_description_length</th>\n",
              "      <th>product_bullet_point_length</th>\n",
              "      <th>product_brand_length</th>\n",
              "      <th>product_color_name_length</th>\n",
              "    </tr>\n",
              "  </thead>\n",
              "  <tbody>\n",
              "    <tr>\n",
              "      <th>count</th>\n",
              "      <td>1834744.00</td>\n",
              "      <td>1834744.0</td>\n",
              "      <td>1834744.00</td>\n",
              "      <td>1834744.00</td>\n",
              "      <td>1834744.00</td>\n",
              "      <td>1834744.00</td>\n",
              "      <td>1834744.00</td>\n",
              "    </tr>\n",
              "    <tr>\n",
              "      <th>mean</th>\n",
              "      <td>19.52</td>\n",
              "      <td>10.0</td>\n",
              "      <td>103.33</td>\n",
              "      <td>394.52</td>\n",
              "      <td>559.73</td>\n",
              "      <td>8.84</td>\n",
              "      <td>5.78</td>\n",
              "    </tr>\n",
              "    <tr>\n",
              "      <th>std</th>\n",
              "      <td>10.05</td>\n",
              "      <td>0.0</td>\n",
              "      <td>53.79</td>\n",
              "      <td>585.50</td>\n",
              "      <td>517.68</td>\n",
              "      <td>5.85</td>\n",
              "      <td>7.22</td>\n",
              "    </tr>\n",
              "    <tr>\n",
              "      <th>min</th>\n",
              "      <td>1.00</td>\n",
              "      <td>10.0</td>\n",
              "      <td>0.00</td>\n",
              "      <td>0.00</td>\n",
              "      <td>0.00</td>\n",
              "      <td>0.00</td>\n",
              "      <td>0.00</td>\n",
              "    </tr>\n",
              "    <tr>\n",
              "      <th>25%</th>\n",
              "      <td>12.00</td>\n",
              "      <td>10.0</td>\n",
              "      <td>60.00</td>\n",
              "      <td>0.00</td>\n",
              "      <td>121.00</td>\n",
              "      <td>6.00</td>\n",
              "      <td>0.00</td>\n",
              "    </tr>\n",
              "    <tr>\n",
              "      <th>50%</th>\n",
              "      <td>18.00</td>\n",
              "      <td>10.0</td>\n",
              "      <td>94.00</td>\n",
              "      <td>0.00</td>\n",
              "      <td>429.00</td>\n",
              "      <td>7.00</td>\n",
              "      <td>5.00</td>\n",
              "    </tr>\n",
              "    <tr>\n",
              "      <th>75%</th>\n",
              "      <td>25.00</td>\n",
              "      <td>10.0</td>\n",
              "      <td>148.00</td>\n",
              "      <td>667.00</td>\n",
              "      <td>888.00</td>\n",
              "      <td>11.00</td>\n",
              "      <td>8.00</td>\n",
              "    </tr>\n",
              "    <tr>\n",
              "      <th>max</th>\n",
              "      <td>165.00</td>\n",
              "      <td>10.0</td>\n",
              "      <td>400.00</td>\n",
              "      <td>8640.00</td>\n",
              "      <td>2503.00</td>\n",
              "      <td>100.00</td>\n",
              "      <td>100.00</td>\n",
              "    </tr>\n",
              "  </tbody>\n",
              "</table>\n",
              "</div>\n",
              "      <button class=\"colab-df-convert\" onclick=\"convertToInteractive('df-9ec91db8-9b58-4ff9-838c-1e04e061cfe9')\"\n",
              "              title=\"Convert this dataframe to an interactive table.\"\n",
              "              style=\"display:none;\">\n",
              "        \n",
              "  <svg xmlns=\"http://www.w3.org/2000/svg\" height=\"24px\"viewBox=\"0 0 24 24\"\n",
              "       width=\"24px\">\n",
              "    <path d=\"M0 0h24v24H0V0z\" fill=\"none\"/>\n",
              "    <path d=\"M18.56 5.44l.94 2.06.94-2.06 2.06-.94-2.06-.94-.94-2.06-.94 2.06-2.06.94zm-11 1L8.5 8.5l.94-2.06 2.06-.94-2.06-.94L8.5 2.5l-.94 2.06-2.06.94zm10 10l.94 2.06.94-2.06 2.06-.94-2.06-.94-.94-2.06-.94 2.06-2.06.94z\"/><path d=\"M17.41 7.96l-1.37-1.37c-.4-.4-.92-.59-1.43-.59-.52 0-1.04.2-1.43.59L10.3 9.45l-7.72 7.72c-.78.78-.78 2.05 0 2.83L4 21.41c.39.39.9.59 1.41.59.51 0 1.02-.2 1.41-.59l7.78-7.78 2.81-2.81c.8-.78.8-2.07 0-2.86zM5.41 20L4 18.59l7.72-7.72 1.47 1.35L5.41 20z\"/>\n",
              "  </svg>\n",
              "      </button>\n",
              "      \n",
              "  <style>\n",
              "    .colab-df-container {\n",
              "      display:flex;\n",
              "      flex-wrap:wrap;\n",
              "      gap: 12px;\n",
              "    }\n",
              "\n",
              "    .colab-df-convert {\n",
              "      background-color: #E8F0FE;\n",
              "      border: none;\n",
              "      border-radius: 50%;\n",
              "      cursor: pointer;\n",
              "      display: none;\n",
              "      fill: #1967D2;\n",
              "      height: 32px;\n",
              "      padding: 0 0 0 0;\n",
              "      width: 32px;\n",
              "    }\n",
              "\n",
              "    .colab-df-convert:hover {\n",
              "      background-color: #E2EBFA;\n",
              "      box-shadow: 0px 1px 2px rgba(60, 64, 67, 0.3), 0px 1px 3px 1px rgba(60, 64, 67, 0.15);\n",
              "      fill: #174EA6;\n",
              "    }\n",
              "\n",
              "    [theme=dark] .colab-df-convert {\n",
              "      background-color: #3B4455;\n",
              "      fill: #D2E3FC;\n",
              "    }\n",
              "\n",
              "    [theme=dark] .colab-df-convert:hover {\n",
              "      background-color: #434B5C;\n",
              "      box-shadow: 0px 1px 3px 1px rgba(0, 0, 0, 0.15);\n",
              "      filter: drop-shadow(0px 1px 2px rgba(0, 0, 0, 0.3));\n",
              "      fill: #FFFFFF;\n",
              "    }\n",
              "  </style>\n",
              "\n",
              "      <script>\n",
              "        const buttonEl =\n",
              "          document.querySelector('#df-9ec91db8-9b58-4ff9-838c-1e04e061cfe9 button.colab-df-convert');\n",
              "        buttonEl.style.display =\n",
              "          google.colab.kernel.accessAllowed ? 'block' : 'none';\n",
              "\n",
              "        async function convertToInteractive(key) {\n",
              "          const element = document.querySelector('#df-9ec91db8-9b58-4ff9-838c-1e04e061cfe9');\n",
              "          const dataTable =\n",
              "            await google.colab.kernel.invokeFunction('convertToInteractive',\n",
              "                                                     [key], {});\n",
              "          if (!dataTable) return;\n",
              "\n",
              "          const docLinkHtml = 'Like what you see? Visit the ' +\n",
              "            '<a target=\"_blank\" href=https://colab.research.google.com/notebooks/data_table.ipynb>data table notebook</a>'\n",
              "            + ' to learn more about interactive tables.';\n",
              "          element.innerHTML = '';\n",
              "          dataTable['output_type'] = 'display_data';\n",
              "          await google.colab.output.renderOutput(dataTable, element);\n",
              "          const docLink = document.createElement('div');\n",
              "          docLink.innerHTML = docLinkHtml;\n",
              "          element.appendChild(docLink);\n",
              "        }\n",
              "      </script>\n",
              "    </div>\n",
              "  </div>\n",
              "  "
            ]
          },
          "metadata": {},
          "execution_count": 5
        }
      ]
    },
    {
      "cell_type": "code",
      "source": [
        "#Label count\n",
        "pd.crosstab(train.esci_label,train.query_locale).plot.bar(stacked=True,figsize=(7,4),width = 0.4,edgecolor = 'darkblue', lw=1)\n",
        "# plt.xticks(rotation=0,size='large')\n",
        "# plt.legend(bbox_to_anchor=(0.55,0.9))\n"
      ],
      "metadata": {
        "colab": {
          "base_uri": "https://localhost:8080/",
          "height": 362
        },
        "id": "_vq7fVNfnNif",
        "outputId": "d2899758-69d3-4548-c3c8-23f827a01693"
      },
      "execution_count": null,
      "outputs": [
        {
          "output_type": "execute_result",
          "data": {
            "text/plain": [
              "<matplotlib.axes._subplots.AxesSubplot at 0x7fd63914bd50>"
            ]
          },
          "metadata": {},
          "execution_count": 6
        },
        {
          "output_type": "display_data",
          "data": {
            "text/plain": [
              "<Figure size 504x288 with 1 Axes>"
            ],
            "image/png": "[encoded data removed]"
          },
          "metadata": {
            "needs_background": "light"
          }
        }
      ]
    },
    {
      "cell_type": "code",
      "source": [
        "# Token Length In A PreTrained Model\n",
        "## use bert-base-multilingual-cased as example\n",
        "import pandas as pd\n",
        "from tqdm.notebook import tqdm\n",
        "! pip install transformers\n",
        "from transformers import AutoTokenizer, AutoModel, TFAutoModel, pipeline\n",
        "import matplotlib.pylab as plt\n",
        "tokenizer = AutoTokenizer.from_pretrained('bert-base-multilingual-cased')\n",
        "df = train.sample(200000,random_state= 2022)\n",
        "token_len = []\n",
        "bar = tqdm(df.iterrows(),total=df.shape[0])\n",
        "for i, row in bar:\n",
        "    text = [row['query'], row['product_title'], row['product_bullet_point'], row['product_brand'],\n",
        "            row['product_color_name'], row['product_locale'], row['product_description']]\n",
        "    text = [str(i) for i in text]\n",
        "    text = f' {tokenizer.sep_token} '.join(text)\n",
        "    encoded_text = tokenizer.encode_plus(text, add_special_tokens=False)\n",
        "    input_ids = encoded_text[\"input_ids\"]\n",
        "    token_len.append(len(input_ids))\n",
        "\n",
        "plt.hist(token_len,bins=80,color='green',edgecolor = 'darkblue', lw=1)\n",
        "plt.show()"
      ],
      "metadata": {
        "colab": {
          "base_uri": "https://localhost:8080/",
          "height": 337,
          "referenced_widgets": [
            "4fb00a970b394edf835079bdf1ed0844",
            "d563ec13f3844b7fb81ff3a416b83777",
            "3fe64e4382424ba7835260118302fc90",
            "53f3882f8c554397b76cbd048f8a0b65",
            "0b8523932325498fad2a87ef722b956d",
            "593d6560b1964ee8b329cdcd2b3c571d",
            "3e0ea042822e4ac2b910fe0c16231206",
            "9e0cc125249c4fa1959373b83a7011c3",
            "0f4317eda4bf4e838c513015f952277e",
            "40dd8fc388fa4a63a77a0c5c60582c40",
            "c40ad2219dc14d7fb4c4a2f7ec109d7e"
          ]
        },
        "id": "nbbBqIIBnRYf",
        "outputId": "6c76cb91-0b10-46ff-ebe6-732ca7e1c5d0"
      },
      "execution_count": null,
      "outputs": [
        {
          "output_type": "display_data",
          "data": {
            "text/plain": [
              "  0%|          | 0/200000 [00:00<?, ?it/s]"
            ],
            "application/vnd.jupyter.widget-view+json": {
              "version_major": 2,
              "version_minor": 0,
              "model_id": "4fb00a970b394edf835079bdf1ed0844"
            }
          },
          "metadata": {}
        },
        {
          "output_type": "stream",
          "name": "stderr",
          "text": [
            "Token indices sequence length is longer than the specified maximum sequence length for this model (520 > 512). Running this sequence through the model will result in indexing errors\n"
          ]
        },
        {
          "output_type": "display_data",
          "data": {
            "text/plain": [
              "<Figure size 432x288 with 1 Axes>"
            ],
            "image/png": "[encoded data removed]"
          },
          "metadata": {
            "needs_background": "light"
          }
        }
      ]
    },
    {
      "cell_type": "code",
      "source": [
        "import re\n",
        "import pandas as pd\n",
        "from tqdm.notebook import tqdm\n",
        "! pip install transformers\n",
        "from transformers import AutoTokenizer, AutoModel, TFAutoModel, pipeline\n",
        "import matplotlib.pylab as plt\n",
        "df = train.sample(200000,random_state= 2022)\n",
        "tokenizer = AutoTokenizer.from_pretrained('bert-base-multilingual-cased')\n",
        "def cleanText(text):\n",
        "    pattern = re.compile(r'<[^>]+>',re.S)\n",
        "    text = pattern.sub('', text)\n",
        "    return text\n",
        "\n",
        "token_len = []\n",
        "bar = tqdm(df.iterrows(),total=df.shape[0])\n",
        "for i, row in bar:\n",
        "    text = [row['query'], row['product_title'], row['product_bullet_point'], row['product_brand'],\n",
        "            row['product_color_name'], row['product_locale'], row['product_description']]\n",
        "    text = [cleanText(str(i)) for i in text]\n",
        "    text = f' {tokenizer.sep_token} '.join(text)\n",
        "    encoded_text = tokenizer.encode_plus(text, add_special_tokens=False)\n",
        "    input_ids = encoded_text[\"input_ids\"]\n",
        "    token_len.append(len(input_ids))\n",
        "\n",
        "plt.hist(token_len,bins=80,color='green',edgecolor = 'darkblue', lw=1)\n",
        "plt.show()"
      ],
      "metadata": {
        "colab": {
          "base_uri": "https://localhost:8080/",
          "height": 265
        },
        "id": "M-Zaewkgp_Xw",
        "outputId": "bb5388e0-a9ee-485e-e421-91d54697486a"
      },
      "execution_count": null,
      "outputs": [
        {
          "output_type": "display_data",
          "data": {
            "text/plain": [
              "<Figure size 432x288 with 1 Axes>"
            ],
            "image/png": "[encoded data removed]"
          },
          "metadata": {
            "needs_background": "light"
          }
        }
      ]
    },
    {
      "cell_type": "markdown",
      "source": [
        "Feature engineering"
      ],
      "metadata": {
        "id": "5vU5MwGknUfn"
      }
    },
    {
      "cell_type": "code",
      "source": [
        "def is_included_in_title(row):\n",
        "  return int(row['query'].lower() in row['product_title'].lower())\n",
        "    \n",
        "def is_included_in_description(row):\n",
        "  return int(row['query'].lower() in row['product_description'].lower())\n",
        "\n",
        "def is_included_in_bullet_point(row):\n",
        "  return int(row['query'].lower() in row['product_bullet_point'].lower())\n",
        "\n",
        "def is_included_in_brand(row):\n",
        "  return int(row['query'].lower() in row['product_brand'].lower())\n",
        "    \n",
        "def is_included_in_color_name(row):\n",
        "  return int(row['query'].lower() in row['product_color_name'].lower())\n",
        "\n",
        "def is_included_in_any(row):\n",
        "  return row['is_included_in_title'] or row['is_included_in_description'] or row['is_included_in_bullet_point'] or row['is_included_in_brand'] or row['is_included_in_color_name']"
      ],
      "metadata": {
        "id": "drY5PMzarg9d"
      },
      "execution_count": null,
      "outputs": []
    },
    {
      "cell_type": "code",
      "source": [
        "train['is_included_in_title'] = train.apply(is_included_in_title, axis=1)\n",
        "train['is_included_in_description'] = train.apply(is_included_in_description, axis=1)\n",
        "train['is_included_in_bullet_point'] = train.apply(is_included_in_bullet_point, axis=1)\n",
        "train['is_included_in_brand'] = train.apply(is_included_in_brand, axis=1)\n",
        "train['is_included_in_color_name'] = train.apply(is_included_in_color_name, axis=1)"
      ],
      "metadata": {
        "id": "JVFSDEIQnU42"
      },
      "execution_count": null,
      "outputs": []
    },
    {
      "cell_type": "code",
      "source": [
        "#Label count\n",
        "import matplotlib.pylab as plt\n",
        "\n",
        "\n",
        "pd.crosstab(train.is_included_in_title,train.esci_label).plot.bar(stacked=True,figsize=(7,4),width = 0.2,edgecolor = 'darkblue', lw=1)\n",
        "\n",
        "\n",
        "\n",
        "pd.crosstab(train.is_included_in_description,train.esci_label).plot.bar(stacked=True,figsize=(7,4),width = 0.2,edgecolor = 'darkblue', lw=1)\n",
        "\n",
        "\n",
        "pd.crosstab(train.is_included_in_brand,train.esci_label).plot.bar(stacked=True,figsize=(7,4),width = 0.2,edgecolor = 'darkblue', lw=1)\n",
        "\n",
        "\n",
        "\n",
        "pd.crosstab(train.is_included_in_color_name,train.esci_label).plot.bar(stacked=True,figsize=(7,4),width = 0.2,edgecolor = 'darkblue', lw=1)\n",
        "\n",
        "\n",
        "pd.crosstab(train.is_included_in_bullet_point,train.esci_label).plot.bar(stacked=True,figsize=(7,4),width = 0.2,edgecolor = 'darkblue', lw=1)\n"
      ],
      "metadata": {
        "colab": {
          "base_uri": "https://localhost:8080/",
          "height": 1000
        },
        "id": "_tv5aAo0naqI",
        "outputId": "6f02a985-894f-404c-e512-5d5c81e7ddb7"
      },
      "execution_count": null,
      "outputs": [
        {
          "output_type": "execute_result",
          "data": {
            "text/plain": [
              "<matplotlib.axes._subplots.AxesSubplot at 0x7f3499456e90>"
            ]
          },
          "metadata": {},
          "execution_count": 17
        },
        {
          "output_type": "display_data",
          "data": {
            "text/plain": [
              "<Figure size 504x288 with 1 Axes>"
            ],
            "image/png": "[encoded data removed]"
          },
          "metadata": {
            "needs_background": "light"
          }
        },
        {
          "output_type": "display_data",
          "data": {
            "text/plain": [
              "<Figure size 504x288 with 1 Axes>"
            ],
            "image/png": "[encoded data removed]"
          },
          "metadata": {
            "needs_background": "light"
          }
        },
        {
          "output_type": "display_data",
          "data": {
            "text/plain": [
              "<Figure size 504x288 with 1 Axes>"
            ],
            "image/png": "[encoded data removed]"
          },
          "metadata": {
            "needs_background": "light"
          }
        },
        {
          "output_type": "display_data",
          "data": {
            "text/plain": [
              "<Figure size 504x288 with 1 Axes>"
            ],
            "image/png": "[encoded data removed]"
          },
          "metadata": {
            "needs_background": "light"
          }
        },
        {
          "output_type": "display_data",
          "data": {
            "text/plain": [
              "<Figure size 504x288 with 1 Axes>"
            ],
            "image/png": "[encoded data removed]"
          },
          "metadata": {
            "needs_background": "light"
          }
        }
      ]
    }
  ]
}